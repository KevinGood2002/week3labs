{
 "cells": [
  {
   "cell_type": "code",
   "execution_count": 15,
   "id": "d985b374-3eb6-41ed-a33b-4e6886c98c89",
   "metadata": {},
   "outputs": [
    {
     "name": "stdout",
     "output_type": "stream",
     "text": [
      "\n",
      "Welcome! This kiosk sells concessions for the basketball game.\n",
      "Please place your order by selecting the product and subsequently providing the quantity desired.\n",
      "\n",
      "Here are the available options:\n",
      "\n",
      "|   | Product         | Price  |\n",
      "|---|----------------|--------|\n",
      "| 1 | Popcorn        | $5.00  |\n",
      "| 2 | Hot Dog        | $4.50  |\n",
      "| 3 | Nachos         | $6.00  |\n",
      "| 4 | Soda          | $3.00  |\n",
      "| 5 | Water         | $2.00  |\n",
      "\n"
     ]
    },
    {
     "name": "stdin",
     "output_type": "stream",
     "text": [
      "What would you like to order?  3\n",
      "How many would you like to order?  2\n"
     ]
    },
    {
     "name": "stdout",
     "output_type": "stream",
     "text": [
      "\n",
      "You want 2 of Nachos.\n",
      "The current total for your order is $12.00\n"
     ]
    },
    {
     "name": "stdin",
     "output_type": "stream",
     "text": [
      "\n",
      "If you are finished ordering, please input 1; otherwise, if you would like to add to your order, please input 2:  2\n"
     ]
    },
    {
     "name": "stdout",
     "output_type": "stream",
     "text": [
      "\n",
      "Adding to your order...\n",
      "\n"
     ]
    },
    {
     "name": "stdin",
     "output_type": "stream",
     "text": [
      "What would you like to order?  1\n",
      "How many would you like to order?  3\n"
     ]
    },
    {
     "name": "stdout",
     "output_type": "stream",
     "text": [
      "\n",
      "You want 3 of Popcorn.\n",
      "The current total for your order is $27.00\n"
     ]
    },
    {
     "name": "stdin",
     "output_type": "stream",
     "text": [
      "\n",
      "If you are finished ordering, please input 1; otherwise, if you would like to add to your order, please input 2:  1\n"
     ]
    },
    {
     "name": "stdout",
     "output_type": "stream",
     "text": [
      "\n",
      "Here is a summary of your final order:\n",
      "\n",
      "| Product         | Quantity |\n",
      "|----------------|----------|\n",
      "| Popcorn        |    3      |\n",
      "| Hot Dog        |    0      |\n",
      "| Nachos         |    2      |\n",
      "| Soda           |    0      |\n",
      "| Water          |    0      |\n",
      "\n",
      "The total cost for your order is $27.00\n",
      "Thank you for your purchase! Enjoy the game!\n"
     ]
    }
   ],
   "source": [
    "# Display Menu\n",
    "print(\"\"\"\n",
    "Welcome! This kiosk sells concessions for the basketball game.\n",
    "Please place your order by selecting the product and subsequently providing the quantity desired.\n",
    "\n",
    "Here are the available options:\n",
    "\n",
    "|   | Product         | Price  |\n",
    "|---|----------------|--------|\n",
    "| 1 | Popcorn        | $5.00  |\n",
    "| 2 | Hot Dog        | $4.50  |\n",
    "| 3 | Nachos         | $6.00  |\n",
    "| 4 | Soda          | $3.00  |\n",
    "| 5 | Water         | $2.00  |\n",
    "\"\"\")\n",
    "\n",
    "# product names\n",
    "product_1 = \"Popcorn\"\n",
    "price_1 = 5.00\n",
    "\n",
    "product_2 = \"Hot Dog\"\n",
    "price_2 = 4.50\n",
    "\n",
    "product_3 = \"Nachos\"\n",
    "price_3 = 6.00\n",
    "\n",
    "product_4 = \"Soda\"\n",
    "price_4 = 3.00\n",
    "\n",
    "product_5 = \"Water\"\n",
    "price_5 = 2.00\n",
    "\n",
    "#total cost\n",
    "total_cost = 0\n",
    "order_summary = {\n",
    "    product_1: 0,\n",
    "    product_2: 0,\n",
    "    product_3: 0,\n",
    "    product_4: 0,\n",
    "    product_5: 0,\n",
    "}\n",
    "\n",
    "while True:\n",
    "    choice = input(\"What would you like to order? \")\n",
    "\n",
    "    # Assign selected product and price\n",
    "    if choice == \"1\":\n",
    "        product_name = product_1\n",
    "        product_price = price_1\n",
    "    elif choice == \"2\":\n",
    "        product_name = product_2\n",
    "        product_price = price_2\n",
    "    elif choice == \"3\":\n",
    "        product_name = product_3\n",
    "        product_price = price_3\n",
    "    elif choice == \"4\":\n",
    "        product_name = product_4\n",
    "        product_price = price_4\n",
    "    elif choice == \"5\":\n",
    "        product_name = product_5\n",
    "        product_price = price_5\n",
    "    else:\n",
    "        print(\"\\nThat is not an option. Please try again.\")\n",
    "        continue\n",
    "\n",
    "    # Ask for quantity\n",
    "\n",
    "    quantity = int(input(\"How many would you like to order? \").strip())\n",
    "    if quantity <= 0:\n",
    "        print(\"\\nQuantity must be at least 1.\")\n",
    "        \n",
    "\n",
    "    # Update order summary\n",
    "    order_summary[product_name] += quantity\n",
    "\n",
    "    # Update total cost\n",
    "    total_cost += product_price * quantity\n",
    "\n",
    "    print(f\"\\nYou want {quantity} of {product_name}.\")\n",
    "    print(f\"The current total for your order is ${total_cost:.2f}\")\n",
    "\n",
    "    # Ask if the user wants to continue ordering\n",
    "    while True:\n",
    "        continue_ordering = input(\"\\nIf you are finished ordering, please input 1; otherwise, if you would like to add to your order, please input 2: \")\n",
    "        \n",
    "        if continue_ordering == \"1\":\n",
    "            break  \n",
    "        elif continue_ordering == \"2\":\n",
    "            print(\"\\nAdding to your order...\\n\")\n",
    "            break  \n",
    "        else:\n",
    "            print(\"\\nInvalid input. Please enter 1 to finish or 2 to continue.\")\n",
    "\n",
    "    if continue_ordering == \"1\":\n",
    "        break  \n",
    "\n",
    "# Display final order summary\n",
    "print(\"\\nHere is a summary of your final order:\\n\")\n",
    "print(\"| Product         | Quantity |\")\n",
    "print(\"|----------------|----------|\")\n",
    "\n",
    "for item, qty in order_summary.items():\n",
    "    print(f\"| {item:<14} |    {qty:<6} |\")\n",
    "\n",
    "print(f\"\\nThe total cost for your order is ${total_cost:.2f}\")\n",
    "print(\"Thank you for your purchase! Enjoy the game!\")\n"
   ]
  },
  {
   "cell_type": "code",
   "execution_count": null,
   "id": "3c31780c-4183-4f62-bca6-7f93b8a13259",
   "metadata": {},
   "outputs": [],
   "source": []
  }
 ],
 "metadata": {
  "kernelspec": {
   "display_name": "Python [conda env:base] *",
   "language": "python",
   "name": "conda-base-py"
  },
  "language_info": {
   "codemirror_mode": {
    "name": "ipython",
    "version": 3
   },
   "file_extension": ".py",
   "mimetype": "text/x-python",
   "name": "python",
   "nbconvert_exporter": "python",
   "pygments_lexer": "ipython3",
   "version": "3.12.7"
  }
 },
 "nbformat": 4,
 "nbformat_minor": 5
}
