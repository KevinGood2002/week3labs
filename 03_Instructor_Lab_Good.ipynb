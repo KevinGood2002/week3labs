{
 "cells": [
  {
   "cell_type": "markdown",
   "id": "d10f0d58-8200-4f79-ad25-51c00bbeac02",
   "metadata": {},
   "source": [
    "Introduction to Python\n",
    "MSBA\n",
    "\n",
    "Week 2 Independent Lab\n",
    "\n",
    "Kevin Good\n",
    "3/10/2025"
   ]
  },
  {
   "cell_type": "code",
   "execution_count": 4,
   "id": "365c46db-694d-42a0-a1e5-5e918a030cad",
   "metadata": {},
   "outputs": [
    {
     "name": "stdin",
     "output_type": "stream",
     "text": [
      "Please provide a value, in Celsius, to convert:\n",
      " 30\n"
     ]
    }
   ],
   "source": [
    "celsius = 0.0\n",
    "fahrenheit =0.0\n",
    "\n",
    "text = float(input(\"Please provide a value, in Celsius, to convert:\\n\"))"
   ]
  },
  {
   "cell_type": "markdown",
   "id": "2842738b-4b25-4dfe-b12c-26474ace92a4",
   "metadata": {},
   "source": [
    "I chose to use the float type for the input because it matches the type set for each variable when they were give the value of 0.0"
   ]
  },
  {
   "cell_type": "code",
   "execution_count": 6,
   "id": "47f5788d-d889-4846-be74-9b89dfc465f0",
   "metadata": {},
   "outputs": [
    {
     "name": "stdout",
     "output_type": "stream",
     "text": [
      "30.0 degrees celsius is 86.0 degrees fahrenheit.\n"
     ]
    }
   ],
   "source": [
    "celsius = text\n",
    "fahrenheit = (9 / 5) * celsius + 32\n",
    "\n",
    "print(f\"{celsius} degrees celsius is {fahrenheit} degrees fahrenheit.\")"
   ]
  },
  {
   "cell_type": "code",
   "execution_count": 8,
   "id": "12683ffc-f17b-474a-bd56-985cabb15a91",
   "metadata": {},
   "outputs": [
    {
     "name": "stdout",
     "output_type": "stream",
     "text": [
      "86\n"
     ]
    }
   ],
   "source": [
    "int_fahrenheit = int(fahrenheit)\n",
    "print(int_fahrenheit)"
   ]
  },
  {
   "cell_type": "code",
   "execution_count": 10,
   "id": "422847de-16c7-444a-a9e3-3de3231ff4a4",
   "metadata": {},
   "outputs": [
    {
     "name": "stdout",
     "output_type": "stream",
     "text": [
      "30.0 degrees celsius is 86.0 degrees fahrenheit which is 303.15 degrees kelvin\n"
     ]
    }
   ],
   "source": [
    "kelvin = celsius + 273.15\n",
    "\n",
    "print(f\"{celsius} degrees celsius is {fahrenheit} degrees fahrenheit which is {kelvin} degrees kelvin\")"
   ]
  },
  {
   "cell_type": "code",
   "execution_count": 15,
   "id": "bac97167-a2af-4f91-b0e6-b346aeb8b24e",
   "metadata": {},
   "outputs": [
    {
     "name": "stdin",
     "output_type": "stream",
     "text": [
      "Please provide another value, in Celsius, to convert:\n",
      " 40\n"
     ]
    },
    {
     "name": "stdout",
     "output_type": "stream",
     "text": [
      "40.0 degrees celsius is 104.0 degrees fahrenheit which is 313.15 degrees kelvin\n"
     ]
    }
   ],
   "source": [
    "#Input value\n",
    "text_two = float(input(\"Please provide another value, in Celsius, to convert:\\n\"))\n",
    "\n",
    "#Conversion\n",
    "celsius_two = text_two\n",
    "fahrenheit_two = (9 / 5) * celsius_two + 32\n",
    "kelvin_two = celsius_two + 273.15\n",
    "\n",
    "#Output\n",
    "print(f\"{celsius_two} degrees celsius is {fahrenheit_two} degrees fahrenheit which is {kelvin_two} degrees kelvin\")\n",
    "\n"
   ]
  },
  {
   "cell_type": "code",
   "execution_count": 31,
   "id": "8c2c6856-d6a0-42ba-a48b-cb2a55b46347",
   "metadata": {},
   "outputs": [
    {
     "name": "stdout",
     "output_type": "stream",
     "text": [
      "The original celsius value of 30.0 is Less than or equal to the new value of 40.0\n",
      "The original Fahrenheit value of 86.0 is less than the new value of 104.0\n",
      "The original Kelvin value of 303.15 is less than the new value of 313.15\n"
     ]
    }
   ],
   "source": [
    "#Celsius comparison\n",
    "if celsius >= celsius_two:\n",
    "    print(f\"The original celsius value of {celsius} is greater than or equal to the new value of {celsius_two}\")\n",
    "elif celsius < celsius_two:\n",
    "    print(f\"The original celsius value of {celsius} is Less than or equal to the new value of {celsius_two}\")\n",
    "\n",
    "# Fahrenheit comparison             \n",
    "if fahrenheit > fahrenheit_two:\n",
    "    print(f\"The original Fahrenheit value of {fahrenheit} is greater than the new value of {fahrenheit_two}\")\n",
    "elif fahrenheit < fahrenheit_two:\n",
    "    print(f\"The original Fahrenheit value of {fahrenheit} is less than the new value of {fahrenheit_two}\")\n",
    "else:\n",
    "    print(f\"The original Fahrenheit value of {fahrenheit} is equal to the new value of {fahrenheit_two}\")\n",
    "\n",
    "# Kelvin comparison\n",
    "if kelvin >= kelvin_two:\n",
    "    print(f\"The original Kelvin value of {kelvin} is greater than or equal to the new value of {kelvin_two}\")\n",
    "elif kelvin < kelvin_two:\n",
    "    print(f\"The original Kelvin value of {kelvin} is less than the new value of {kelvin_two}\")\n",
    "elif kelvin != kelvin_two:\n",
    "    print(f\"The original Kelvin value of {kelvin} is not equal to the new value of {kelvin_two}\")"
   ]
  },
  {
   "cell_type": "code",
   "execution_count": 35,
   "id": "4f07186f-021b-46e5-801e-e95146f5e918",
   "metadata": {},
   "outputs": [
    {
     "name": "stdout",
     "output_type": "stream",
     "text": [
      "celsius >= celsius_two and fahrenheit < fahrenheit_two\n",
      "Python lies.\n",
      "celsius >= celsius_two or kelvin != kelvin_two\n",
      "Python speaks the truth!\n"
     ]
    }
   ],
   "source": [
    "#Logic\n",
    "print(\"celsius >= celsius_two and fahrenheit < fahrenheit_two\")\n",
    "if celsius >= celsius_two and fahrenheit < fahrenheit_two:\n",
    "    print(\"Python speaks the truth!\")\n",
    "else:\n",
    "    print(\"Python lies.\")\n",
    "\n",
    "print(\"celsius >= celsius_two or kelvin != kelvin_two\")\n",
    "if celsius >= celsius_two or kelvin != kelvin_two:\n",
    "    print(\"Python speaks the truth!\")\n",
    "else:\n",
    "    print(\"Python lies.\")          "
   ]
  },
  {
   "cell_type": "code",
   "execution_count": null,
   "id": "f277cd24-da9d-44fb-ad34-ecd5c1349fee",
   "metadata": {},
   "outputs": [],
   "source": []
  }
 ],
 "metadata": {
  "kernelspec": {
   "display_name": "Python [conda env:base] *",
   "language": "python",
   "name": "conda-base-py"
  },
  "language_info": {
   "codemirror_mode": {
    "name": "ipython",
    "version": 3
   },
   "file_extension": ".py",
   "mimetype": "text/x-python",
   "name": "python",
   "nbconvert_exporter": "python",
   "pygments_lexer": "ipython3",
   "version": "3.12.7"
  }
 },
 "nbformat": 4,
 "nbformat_minor": 5
}
